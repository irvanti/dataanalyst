{
 "cells": [
  {
   "cell_type": "code",
   "execution_count": 3,
   "metadata": {},
   "outputs": [],
   "source": [
    "import pandas as pd"
   ]
  },
  {
   "cell_type": "code",
   "execution_count": 15,
   "metadata": {},
   "outputs": [
    {
     "data": {
      "text/html": [
       "<div>\n",
       "<style scoped>\n",
       "    .dataframe tbody tr th:only-of-type {\n",
       "        vertical-align: middle;\n",
       "    }\n",
       "\n",
       "    .dataframe tbody tr th {\n",
       "        vertical-align: top;\n",
       "    }\n",
       "\n",
       "    .dataframe thead th {\n",
       "        text-align: right;\n",
       "    }\n",
       "</style>\n",
       "<table border=\"1\" class=\"dataframe\">\n",
       "  <thead>\n",
       "    <tr style=\"text-align: right;\">\n",
       "      <th></th>\n",
       "      <th>Bulan</th>\n",
       "      <th>Tahun_2017</th>\n",
       "      <th>Tahun_2018</th>\n",
       "      <th>Tahun_2019</th>\n",
       "      <th>Tahun_2020</th>\n",
       "      <th>Tahun_2021</th>\n",
       "    </tr>\n",
       "  </thead>\n",
       "  <tbody>\n",
       "    <tr>\n",
       "      <th>0</th>\n",
       "      <td>Januari</td>\n",
       "      <td>30_438</td>\n",
       "      <td>43_367</td>\n",
       "      <td>52_471</td>\n",
       "      <td>58_729</td>\n",
       "      <td>24_143</td>\n",
       "    </tr>\n",
       "    <tr>\n",
       "      <th>1</th>\n",
       "      <td>Februari</td>\n",
       "      <td>21_447</td>\n",
       "      <td>28_724</td>\n",
       "      <td>35_260</td>\n",
       "      <td>39_487</td>\n",
       "      <td>14_457</td>\n",
       "    </tr>\n",
       "    <tr>\n",
       "      <th>2</th>\n",
       "      <td>Maret</td>\n",
       "      <td>21_843</td>\n",
       "      <td>30_248</td>\n",
       "      <td>38_149</td>\n",
       "      <td>0</td>\n",
       "      <td>15_816</td>\n",
       "    </tr>\n",
       "    <tr>\n",
       "      <th>3</th>\n",
       "      <td>April</td>\n",
       "      <td>21_914</td>\n",
       "      <td>29_259</td>\n",
       "      <td>38_853</td>\n",
       "      <td>0</td>\n",
       "      <td>15_294</td>\n",
       "    </tr>\n",
       "    <tr>\n",
       "      <th>4</th>\n",
       "      <td>Mei</td>\n",
       "      <td>20_328</td>\n",
       "      <td>31_811</td>\n",
       "      <td>40_258</td>\n",
       "      <td>0</td>\n",
       "      <td>17_620</td>\n",
       "    </tr>\n",
       "  </tbody>\n",
       "</table>\n",
       "</div>"
      ],
      "text/plain": [
       "      Bulan Tahun_2017 Tahun_2018 Tahun_2019 Tahun_2020 Tahun_2021\n",
       "0   Januari     30_438     43_367     52_471     58_729     24_143\n",
       "1  Februari     21_447     28_724     35_260     39_487     14_457\n",
       "2     Maret     21_843     30_248     38_149          0     15_816\n",
       "3     April     21_914     29_259     38_853          0     15_294\n",
       "4       Mei     20_328     31_811     40_258          0     17_620"
      ]
     },
     "execution_count": 15,
     "metadata": {},
     "output_type": "execute_result"
    }
   ],
   "source": [
    "zoo_df = pd.DataFrame(data={'Bulan': ['Januari', 'Februari', 'Maret', 'April', 'Mei', 'Juni', 'Juli', 'Agustus', 'September', 'Oktober', 'November', 'Desember'],\n",
    "                   'Tahun_2017' : ['30_438', '21_447', '21_843', '21_914', '20_328', '20_185', '19_664', '20_401', '19_396', '21_893', '22_168', '27_639'],\n",
    "                  'Tahun_2018' : ['43_367', '28_724', '30_248', '29_259', '31_811', '31_114', '35_913', '28_276', '29_342', '30_690', '30_818', '39_024'],\n",
    "                  'Tahun_2019' : ['52_471', '35_260', '38_149', '38_853', '40_258', '47_812', '41_905', '43_141', '42_523', '43_754', '44_394', '49_240'],\n",
    "                  'Tahun_2020' : ['58_729', '39_487', '0', '0', '0', '0', '0', '0', '22_368', '23_174', '25_539', '27_605'],\n",
    "                  'Tahun_2021' : ['24_143', '14_457', '15_816', '15_294', '17_620', '14_259', '15_611', '14_803', '14_538', '15_304', '14_972', '27_130']})\n",
    "zoo_df.head()"
   ]
  },
  {
   "cell_type": "code",
   "execution_count": 18,
   "metadata": {},
   "outputs": [
    {
     "data": {
      "text/plain": [
       "0     24_143\n",
       "1     14_457\n",
       "2     15_816\n",
       "3     15_294\n",
       "4     17_620\n",
       "5     14_259\n",
       "6     15_611\n",
       "7     14_803\n",
       "8     14_538\n",
       "9     15_304\n",
       "10    14_972\n",
       "11    27_130\n",
       "Name: Tahun_2021, dtype: object"
      ]
     },
     "execution_count": 18,
     "metadata": {},
     "output_type": "execute_result"
    }
   ],
   "source": [
    "y = zoo_df ['Tahun_2021']\n",
    "y"
   ]
  },
  {
   "cell_type": "code",
   "execution_count": 27,
   "metadata": {},
   "outputs": [
    {
     "data": {
      "text/html": [
       "<div>\n",
       "<style scoped>\n",
       "    .dataframe tbody tr th:only-of-type {\n",
       "        vertical-align: middle;\n",
       "    }\n",
       "\n",
       "    .dataframe tbody tr th {\n",
       "        vertical-align: top;\n",
       "    }\n",
       "\n",
       "    .dataframe thead th {\n",
       "        text-align: right;\n",
       "    }\n",
       "</style>\n",
       "<table border=\"1\" class=\"dataframe\">\n",
       "  <thead>\n",
       "    <tr style=\"text-align: right;\">\n",
       "      <th></th>\n",
       "      <th>Tahun_2017</th>\n",
       "      <th>Tahun_2018</th>\n",
       "      <th>Tahun_2019</th>\n",
       "      <th>Tahun_2020</th>\n",
       "    </tr>\n",
       "  </thead>\n",
       "  <tbody>\n",
       "    <tr>\n",
       "      <th>0</th>\n",
       "      <td>30_438</td>\n",
       "      <td>43_367</td>\n",
       "      <td>52_471</td>\n",
       "      <td>58_729</td>\n",
       "    </tr>\n",
       "    <tr>\n",
       "      <th>1</th>\n",
       "      <td>21_447</td>\n",
       "      <td>28_724</td>\n",
       "      <td>35_260</td>\n",
       "      <td>39_487</td>\n",
       "    </tr>\n",
       "    <tr>\n",
       "      <th>2</th>\n",
       "      <td>21_843</td>\n",
       "      <td>30_248</td>\n",
       "      <td>38_149</td>\n",
       "      <td>0</td>\n",
       "    </tr>\n",
       "    <tr>\n",
       "      <th>3</th>\n",
       "      <td>21_914</td>\n",
       "      <td>29_259</td>\n",
       "      <td>38_853</td>\n",
       "      <td>0</td>\n",
       "    </tr>\n",
       "    <tr>\n",
       "      <th>4</th>\n",
       "      <td>20_328</td>\n",
       "      <td>31_811</td>\n",
       "      <td>40_258</td>\n",
       "      <td>0</td>\n",
       "    </tr>\n",
       "    <tr>\n",
       "      <th>5</th>\n",
       "      <td>20_185</td>\n",
       "      <td>31_114</td>\n",
       "      <td>47_812</td>\n",
       "      <td>0</td>\n",
       "    </tr>\n",
       "    <tr>\n",
       "      <th>6</th>\n",
       "      <td>19_664</td>\n",
       "      <td>35_913</td>\n",
       "      <td>41_905</td>\n",
       "      <td>0</td>\n",
       "    </tr>\n",
       "    <tr>\n",
       "      <th>7</th>\n",
       "      <td>20_401</td>\n",
       "      <td>28_276</td>\n",
       "      <td>43_141</td>\n",
       "      <td>0</td>\n",
       "    </tr>\n",
       "    <tr>\n",
       "      <th>8</th>\n",
       "      <td>19_396</td>\n",
       "      <td>29_342</td>\n",
       "      <td>42_523</td>\n",
       "      <td>22_368</td>\n",
       "    </tr>\n",
       "    <tr>\n",
       "      <th>9</th>\n",
       "      <td>21_893</td>\n",
       "      <td>30_690</td>\n",
       "      <td>43_754</td>\n",
       "      <td>23_174</td>\n",
       "    </tr>\n",
       "    <tr>\n",
       "      <th>10</th>\n",
       "      <td>22_168</td>\n",
       "      <td>30_818</td>\n",
       "      <td>44_394</td>\n",
       "      <td>25_539</td>\n",
       "    </tr>\n",
       "    <tr>\n",
       "      <th>11</th>\n",
       "      <td>27_639</td>\n",
       "      <td>39_024</td>\n",
       "      <td>49_240</td>\n",
       "      <td>27_605</td>\n",
       "    </tr>\n",
       "  </tbody>\n",
       "</table>\n",
       "</div>"
      ],
      "text/plain": [
       "   Tahun_2017 Tahun_2018 Tahun_2019 Tahun_2020\n",
       "0      30_438     43_367     52_471     58_729\n",
       "1      21_447     28_724     35_260     39_487\n",
       "2      21_843     30_248     38_149          0\n",
       "3      21_914     29_259     38_853          0\n",
       "4      20_328     31_811     40_258          0\n",
       "5      20_185     31_114     47_812          0\n",
       "6      19_664     35_913     41_905          0\n",
       "7      20_401     28_276     43_141          0\n",
       "8      19_396     29_342     42_523     22_368\n",
       "9      21_893     30_690     43_754     23_174\n",
       "10     22_168     30_818     44_394     25_539\n",
       "11     27_639     39_024     49_240     27_605"
      ]
     },
     "execution_count": 27,
     "metadata": {},
     "output_type": "execute_result"
    }
   ],
   "source": [
    "features = ['Tahun_2017', 'Tahun_2018', 'Tahun_2019', 'Tahun_2020']\n",
    "X = zoo_df[features]\n",
    "X"
   ]
  },
  {
   "cell_type": "code",
   "execution_count": 23,
   "metadata": {},
   "outputs": [
    {
     "data": {
      "text/plain": [
       "<bound method NDFrame.describe of         Bulan Tahun_2017 Tahun_2018 Tahun_2019 Tahun_2020\n",
       "0     Januari     30_438     43_367     52_471     58_729\n",
       "1    Februari     21_447     28_724     35_260     39_487\n",
       "2       Maret     21_843     30_248     38_149          0\n",
       "3       April     21_914     29_259     38_853          0\n",
       "4         Mei     20_328     31_811     40_258          0\n",
       "5        Juni     20_185     31_114     47_812          0\n",
       "6        Juli     19_664     35_913     41_905          0\n",
       "7     Agustus     20_401     28_276     43_141          0\n",
       "8   September     19_396     29_342     42_523     22_368\n",
       "9     Oktober     21_893     30_690     43_754     23_174\n",
       "10   November     22_168     30_818     44_394     25_539\n",
       "11   Desember     27_639     39_024     49_240     27_605>"
      ]
     },
     "execution_count": 23,
     "metadata": {},
     "output_type": "execute_result"
    }
   ],
   "source": [
    "X.describe"
   ]
  },
  {
   "cell_type": "code",
   "execution_count": 28,
   "metadata": {},
   "outputs": [],
   "source": [
    "from sklearn.tree import DecisionTreeRegressor"
   ]
  },
  {
   "cell_type": "code",
   "execution_count": 29,
   "metadata": {},
   "outputs": [],
   "source": [
    "target_model = DecisionTreeRegressor (random_state=1)"
   ]
  },
  {
   "cell_type": "code",
   "execution_count": 30,
   "metadata": {},
   "outputs": [
    {
     "data": {
      "text/plain": [
       "DecisionTreeRegressor(criterion='mse', max_depth=None, max_features=None,\n",
       "           max_leaf_nodes=None, min_impurity_decrease=0.0,\n",
       "           min_impurity_split=None, min_samples_leaf=1,\n",
       "           min_samples_split=2, min_weight_fraction_leaf=0.0,\n",
       "           presort=False, random_state=1, splitter='best')"
      ]
     },
     "execution_count": 30,
     "metadata": {},
     "output_type": "execute_result"
    }
   ],
   "source": [
    "target_model.fit(X, y)"
   ]
  },
  {
   "cell_type": "code",
   "execution_count": 31,
   "metadata": {},
   "outputs": [
    {
     "data": {
      "text/plain": [
       "array([24143., 14457., 15816., 15294., 17620.])"
      ]
     },
     "execution_count": 31,
     "metadata": {},
     "output_type": "execute_result"
    }
   ],
   "source": [
    "target_model.predict(X.head())"
   ]
  },
  {
   "cell_type": "code",
   "execution_count": 32,
   "metadata": {},
   "outputs": [
    {
     "data": {
      "text/plain": [
       "0    24_143\n",
       "1    14_457\n",
       "2    15_816\n",
       "3    15_294\n",
       "4    17_620\n",
       "Name: Tahun_2021, dtype: object"
      ]
     },
     "execution_count": 32,
     "metadata": {},
     "output_type": "execute_result"
    }
   ],
   "source": [
    "y.head()"
   ]
  },
  {
   "cell_type": "code",
   "execution_count": 33,
   "metadata": {},
   "outputs": [
    {
     "name": "stderr",
     "output_type": "stream",
     "text": [
      "D:\\anaconda2\\lib\\site-packages\\sklearn\\ensemble\\weight_boosting.py:29: DeprecationWarning: numpy.core.umath_tests is an internal NumPy module and should not be imported. It will be removed in a future NumPy release.\n",
      "  from numpy.core.umath_tests import inner1d\n"
     ]
    }
   ],
   "source": [
    "from sklearn.metrics import confusion_matrix, accuracy_score, classification_report\n",
    "from sklearn.ensemble import RandomForestRegressor\n",
    "from sklearn.model_selection import train_test_split\n",
    "from sklearn.metrics import mean_absolute_error"
   ]
  },
  {
   "cell_type": "code",
   "execution_count": 34,
   "metadata": {},
   "outputs": [
    {
     "data": {
      "text/plain": [
       "0.0"
      ]
     },
     "execution_count": 34,
     "metadata": {},
     "output_type": "execute_result"
    }
   ],
   "source": [
    "y_hat = target_model.predict(X)\n",
    "mean_absolute_error (y, y_hat)"
   ]
  },
  {
   "cell_type": "code",
   "execution_count": 35,
   "metadata": {},
   "outputs": [
    {
     "data": {
      "text/plain": [
       "5     14_259\n",
       "2     15_816\n",
       "10    14_972\n",
       "3     15_294\n",
       "7     14_803\n",
       "Name: Tahun_2021, dtype: object"
      ]
     },
     "execution_count": 35,
     "metadata": {},
     "output_type": "execute_result"
    }
   ],
   "source": [
    "X_train, X_test, y_train, y_test = train_test_split (X, y, test_size = 0.1)\n",
    "y_train.head()"
   ]
  },
  {
   "cell_type": "code",
   "execution_count": 36,
   "metadata": {},
   "outputs": [
    {
     "data": {
      "text/plain": [
       "DecisionTreeRegressor(criterion='mse', max_depth=None, max_features=None,\n",
       "           max_leaf_nodes=None, min_impurity_decrease=0.0,\n",
       "           min_impurity_split=None, min_samples_leaf=1,\n",
       "           min_samples_split=2, min_weight_fraction_leaf=0.0,\n",
       "           presort=False, random_state=1, splitter='best')"
      ]
     },
     "execution_count": 36,
     "metadata": {},
     "output_type": "execute_result"
    }
   ],
   "source": [
    "target_model = DecisionTreeRegressor (random_state = 1)\n",
    "target_model.fit(X_train, y_train)"
   ]
  },
  {
   "cell_type": "code",
   "execution_count": 37,
   "metadata": {},
   "outputs": [
    {
     "data": {
      "text/plain": [
       "6476.0"
      ]
     },
     "execution_count": 37,
     "metadata": {},
     "output_type": "execute_result"
    }
   ],
   "source": [
    "y_hat = target_model.predict(X_test)\n",
    "mean_absolute_error (y_test, y_hat)"
   ]
  },
  {
   "cell_type": "code",
   "execution_count": 38,
   "metadata": {},
   "outputs": [],
   "source": [
    "def get_mae (max_leaf_nodes, X_train, X_test, y_train, y_test):\n",
    "    target_model = DecisionTreeRegressor (max_leaf_nodes=max_leaf_nodes, random_state = 1)\n",
    "    target_model.fit(X_train, y_train)\n",
    "    y_hat = target_model.predict(X_test)\n",
    "    mae = mean_absolute_error (y_test, y_hat)\n",
    "    return mae"
   ]
  },
  {
   "cell_type": "code",
   "execution_count": 40,
   "metadata": {},
   "outputs": [
    {
     "name": "stdout",
     "output_type": "stream",
     "text": [
      " Max leaf nodes : 5 \t Mean Absolute Error : 6604\n",
      " Max leaf nodes : 50 \t Mean Absolute Error : 6476\n",
      " Max leaf nodes : 500 \t Mean Absolute Error : 6476\n",
      " Max leaf nodes : 5000 \t Mean Absolute Error : 6476\n"
     ]
    }
   ],
   "source": [
    "for max_leaf_nodes in [5, 50, 500, 5000] :\n",
    "    leaf_mae = get_mae (max_leaf_nodes, X_train, X_test, y_train, y_test)\n",
    "    print (f' Max leaf nodes : {max_leaf_nodes} \\t Mean Absolute Error : {int(leaf_mae)}')"
   ]
  },
  {
   "cell_type": "code",
   "execution_count": 41,
   "metadata": {},
   "outputs": [
    {
     "name": "stdout",
     "output_type": "stream",
     "text": [
      "Mean Absolute Error:2091\n"
     ]
    }
   ],
   "source": [
    "rf_df = RandomForestRegressor (n_estimators=50, random_state = 1)\n",
    "rf_df.fit (X_train, y_train)\n",
    "y_hat = rf_df.predict(X_test)\n",
    "print (f'Mean Absolute Error:{int(mean_absolute_error(y_test, y_hat))}')"
   ]
  },
  {
   "cell_type": "code",
   "execution_count": null,
   "metadata": {},
   "outputs": [],
   "source": []
  }
 ],
 "metadata": {
  "kernelspec": {
   "display_name": "Python 3",
   "language": "python",
   "name": "python3"
  },
  "language_info": {
   "codemirror_mode": {
    "name": "ipython",
    "version": 3
   },
   "file_extension": ".py",
   "mimetype": "text/x-python",
   "name": "python",
   "nbconvert_exporter": "python",
   "pygments_lexer": "ipython3",
   "version": "3.7.0"
  }
 },
 "nbformat": 4,
 "nbformat_minor": 2
}
